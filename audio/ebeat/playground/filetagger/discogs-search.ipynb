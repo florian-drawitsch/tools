{
 "cells": [
  {
   "cell_type": "code",
   "execution_count": 36,
   "metadata": {},
   "outputs": [],
   "source": [
    "import re\n",
    "import discogs_api\n",
    "from fuzzywuzzy import process\n",
    "from fuzzysearch import find_near_matches\n",
    "d = discogs_api.Client('vinylbox/0.1', user_token=\"jvtwTwooUJnzVTngCZmInzhCBUlfiULHOmWHmhYU\")"
   ]
  },
  {
   "cell_type": "code",
   "execution_count": 2,
   "metadata": {},
   "outputs": [],
   "source": [
    "def search_tracklist(search_str_track, release):\n",
    "    matches = []\n",
    "    dists = []\n",
    "    artists = []\n",
    "    track_positions = []\n",
    "    for track in release.tracklist:\n",
    "        rns = find_near_matches(search_str_track, track.title, max_l_dist=1)\n",
    "        for rn in rns:\n",
    "            matches.append(rn.matched)\n",
    "            dists.append(rn.dist)\n",
    "            track_positions.append(track.position)\n",
    "            artists.append(track.artists)\n",
    "    best_fuzyy_idx = dists.index(min(dists))\n",
    "    track_id = matches[best_fuzyy_idx]\n",
    "    track_position = track_positions[best_fuzyy_idx]\n",
    "    track_artist = artists[best_fuzyy_idx]\n",
    "    if not track_artist:\n",
    "        dists = []\n",
    "        for artist in release.artists:\n",
    "            rns = find_near_matches(search_str_artist, artist.name, max_l_dist=1)\n",
    "            [dists.append(rn.dist) for rn in rns]\n",
    "        best_fuzyy_idx = dists.index(min(dists))\n",
    "        track_artist = release.artists[best_fuzyy_idx]\n",
    "\n",
    "    return track_artist.name, track_id, track_position, track_artist.id"
   ]
  },
  {
   "cell_type": "code",
   "execution_count": 3,
   "metadata": {},
   "outputs": [],
   "source": [
    "search_str = 'Alain Gertrand - Vague Deux'\n",
    "r = re.search('(.*)\\s-\\s(.*)', search_str)\n",
    "search_str_artist = r.group(1)\n",
    "search_str_track = r.group(2)\n",
    "results = d.search(search_str)\n",
    "if results:\n",
    "    results_idx = 0\n",
    "    release = results[results_idx]\n",
    "    release_name = release.title\n",
    "    release_tracklist = release.tracklist\n",
    "    print(search_tracklist(search_str_track, release))"
   ]
  },
  {
   "cell_type": "code",
   "execution_count": 16,
   "metadata": {},
   "outputs": [
    {
     "ename": "ValueError",
     "evalue": "min() arg is an empty sequence",
     "output_type": "error",
     "traceback": [
      "\u001b[0;31m---------------------------------------------------------------------------\u001b[0m",
      "\u001b[0;31mValueError\u001b[0m                                Traceback (most recent call last)",
      "\u001b[0;32m<ipython-input-16-b801792a05c9>\u001b[0m in \u001b[0;36m<module>\u001b[0;34m\u001b[0m\n\u001b[1;32m      9\u001b[0m     \u001b[0mrelease_name\u001b[0m \u001b[0;34m=\u001b[0m \u001b[0mrelease\u001b[0m\u001b[0;34m.\u001b[0m\u001b[0mtitle\u001b[0m\u001b[0;34m\u001b[0m\u001b[0;34m\u001b[0m\u001b[0m\n\u001b[1;32m     10\u001b[0m     \u001b[0mrelease_tracklist\u001b[0m \u001b[0;34m=\u001b[0m \u001b[0mrelease\u001b[0m\u001b[0;34m.\u001b[0m\u001b[0mtracklist\u001b[0m\u001b[0;34m\u001b[0m\u001b[0;34m\u001b[0m\u001b[0m\n\u001b[0;32m---> 11\u001b[0;31m     \u001b[0mprint\u001b[0m\u001b[0;34m(\u001b[0m\u001b[0msearch_tracklist\u001b[0m\u001b[0;34m(\u001b[0m\u001b[0msearch_str_track\u001b[0m\u001b[0;34m,\u001b[0m \u001b[0mrelease\u001b[0m\u001b[0;34m)\u001b[0m\u001b[0;34m)\u001b[0m\u001b[0;34m\u001b[0m\u001b[0;34m\u001b[0m\u001b[0m\n\u001b[0m",
      "\u001b[0;32m<ipython-input-2-f929907bfec8>\u001b[0m in \u001b[0;36msearch_tracklist\u001b[0;34m(search_str_track, release)\u001b[0m\n\u001b[1;32m     20\u001b[0m             \u001b[0mrns\u001b[0m \u001b[0;34m=\u001b[0m \u001b[0mfind_near_matches\u001b[0m\u001b[0;34m(\u001b[0m\u001b[0msearch_str_artist\u001b[0m\u001b[0;34m,\u001b[0m \u001b[0martist\u001b[0m\u001b[0;34m.\u001b[0m\u001b[0mname\u001b[0m\u001b[0;34m,\u001b[0m \u001b[0mmax_l_dist\u001b[0m\u001b[0;34m=\u001b[0m\u001b[0;36m1\u001b[0m\u001b[0;34m)\u001b[0m\u001b[0;34m\u001b[0m\u001b[0;34m\u001b[0m\u001b[0m\n\u001b[1;32m     21\u001b[0m             \u001b[0;34m[\u001b[0m\u001b[0mdists\u001b[0m\u001b[0;34m.\u001b[0m\u001b[0mappend\u001b[0m\u001b[0;34m(\u001b[0m\u001b[0mrn\u001b[0m\u001b[0;34m.\u001b[0m\u001b[0mdist\u001b[0m\u001b[0;34m)\u001b[0m \u001b[0;32mfor\u001b[0m \u001b[0mrn\u001b[0m \u001b[0;32min\u001b[0m \u001b[0mrns\u001b[0m\u001b[0;34m]\u001b[0m\u001b[0;34m\u001b[0m\u001b[0;34m\u001b[0m\u001b[0m\n\u001b[0;32m---> 22\u001b[0;31m         \u001b[0mbest_fuzyy_idx\u001b[0m \u001b[0;34m=\u001b[0m \u001b[0mdists\u001b[0m\u001b[0;34m.\u001b[0m\u001b[0mindex\u001b[0m\u001b[0;34m(\u001b[0m\u001b[0mmin\u001b[0m\u001b[0;34m(\u001b[0m\u001b[0mdists\u001b[0m\u001b[0;34m)\u001b[0m\u001b[0;34m)\u001b[0m\u001b[0;34m\u001b[0m\u001b[0;34m\u001b[0m\u001b[0m\n\u001b[0m\u001b[1;32m     23\u001b[0m         \u001b[0mtrack_artist\u001b[0m \u001b[0;34m=\u001b[0m \u001b[0mrelease\u001b[0m\u001b[0;34m.\u001b[0m\u001b[0martists\u001b[0m\u001b[0;34m[\u001b[0m\u001b[0mbest_fuzyy_idx\u001b[0m\u001b[0;34m]\u001b[0m\u001b[0;34m\u001b[0m\u001b[0;34m\u001b[0m\u001b[0m\n\u001b[1;32m     24\u001b[0m \u001b[0;34m\u001b[0m\u001b[0m\n",
      "\u001b[0;31mValueError\u001b[0m: min() arg is an empty sequence"
     ]
    }
   ],
   "source": [
    "search_str = 'Coeo - Bliss'\n",
    "r = re.search('(.*)\\s-\\s(.*)', search_str)\n",
    "search_str_artist = r.group(1)\n",
    "search_str_track = r.group(2)\n",
    "results = d.search(artist=search_str_artist, track=search_str_track)\n",
    "if results:\n",
    "    results_idx = 0\n",
    "    release = results[results_idx]\n",
    "    release_name = release.title\n",
    "    release_tracklist = release.tracklist\n",
    "    print(search_tracklist(search_str_track, release))"
   ]
  },
  {
   "cell_type": "code",
   "execution_count": 71,
   "metadata": {},
   "outputs": [],
   "source": [
    "musyc\n",
    "search_str = 'Romar - Floating Moment'\n",
    "r = re.search('(.*)\\s-\\s(.*)', search_str)\n",
    "search_str_artist = r.group(1)\n",
    "search_str_track = r.group(2)\n",
    "# results = d.search(artist=search_str_artist, track=search_str_track)\n",
    "results = d.search(search_str)\n",
    "for results_idx in range(results.count):\n",
    "    release = results[results_idx]\n",
    "    release_title = release.title\n",
    "    tracklist = release.tracklist\n",
    "    fuzzy_match = process.extract(search_str_track, {idx: track.title for track, idx in zip(tracklist,range(len(tracklist)))}, limit=1)\n",
    "    if fuzzy_match:\n",
    "        track = tracklist[fuzzy_match[0][2]]\n",
    "        track_position = track.position\n",
    "        track_artists = track.artists\n",
    "        \n",
    "    else:\n",
    "        print('Track could not be found in tracklist')\n",
    "    "
   ]
  },
  {
   "cell_type": "code",
   "execution_count": 72,
   "metadata": {},
   "outputs": [
    {
     "data": {
      "text/plain": [
       "[<Artist 309118 'Romar'>]"
      ]
     },
     "execution_count": 72,
     "metadata": {},
     "output_type": "execute_result"
    }
   ],
   "source": [
    "track_artists"
   ]
  },
  {
   "cell_type": "code",
   "execution_count": 62,
   "metadata": {},
   "outputs": [
    {
     "data": {
      "text/plain": [
       "'Floating Moment'"
      ]
     },
     "execution_count": 62,
     "metadata": {},
     "output_type": "execute_result"
    }
   ],
   "source": [
    "search_str_track"
   ]
  },
  {
   "cell_type": "code",
   "execution_count": 73,
   "metadata": {},
   "outputs": [
    {
     "ename": "NameError",
     "evalue": "name 'a' is not defined",
     "output_type": "error",
     "traceback": [
      "\u001b[0;31m---------------------------------------------------------------------------\u001b[0m",
      "\u001b[0;31mNameError\u001b[0m                                 Traceback (most recent call last)",
      "\u001b[0;32m<ipython-input-73-666acecd4e9c>\u001b[0m in \u001b[0;36m<module>\u001b[0;34m\u001b[0m\n\u001b[0;32m----> 1\u001b[0;31m \u001b[0;32mnot\u001b[0m \u001b[0ma\u001b[0m\u001b[0;34m\u001b[0m\u001b[0;34m\u001b[0m\u001b[0m\n\u001b[0m",
      "\u001b[0;31mNameError\u001b[0m: name 'a' is not defined"
     ]
    }
   ],
   "source": []
  },
  {
   "cell_type": "code",
   "execution_count": null,
   "metadata": {},
   "outputs": [],
   "source": []
  }
 ],
 "metadata": {
  "kernelspec": {
   "display_name": "Python 3",
   "language": "python",
   "name": "python3"
  },
  "language_info": {
   "codemirror_mode": {
    "name": "ipython",
    "version": 3
   },
   "file_extension": ".py",
   "mimetype": "text/x-python",
   "name": "python",
   "nbconvert_exporter": "python",
   "pygments_lexer": "ipython3",
   "version": "3.7.6"
  }
 },
 "nbformat": 4,
 "nbformat_minor": 4
}
